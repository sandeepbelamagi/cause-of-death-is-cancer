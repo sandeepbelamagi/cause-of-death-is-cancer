{
 "cells": [
  {
   "cell_type": "markdown",
   "metadata": {},
   "source": [
    "# Step 1: Importing the relevent libraries"
   ]
  },
  {
   "cell_type": "code",
   "execution_count": 1,
   "metadata": {},
   "outputs": [],
   "source": [
    "import numpy as np\n",
    "# Visulaization Library\n",
    "import matplotlib.pyplot as plt\n",
    "%matplotlib inline\n",
    "import seaborn as sns\n",
    "\n",
    "# EDA\n",
    "import pandas as pd\n",
    "from sklearn.preprocessing import LabelEncoder\n",
    "from sklearn.preprocessing import MinMaxScaler\n",
    "from sklearn.model_selection import train_test_split\n",
    "from sklearn import metrics\n",
    "\n",
    "import warnings\n",
    "warnings.filterwarnings('always')\n",
    "warnings.filterwarnings('ignore')"
   ]
  },
  {
   "cell_type": "markdown",
   "metadata": {},
   "source": [
    "# Step 2: Data Inspection"
   ]
  },
  {
   "cell_type": "code",
   "execution_count": 2,
   "metadata": {},
   "outputs": [],
   "source": [
    "# Loading train and test data\n",
    "train = pd.read_csv(\"train.csv\")\n",
    "test = pd.read_csv(\"test.csv\")"
   ]
  },
  {
   "cell_type": "code",
   "execution_count": 3,
   "metadata": {},
   "outputs": [
    {
     "data": {
      "text/plain": [
       "((2952, 70), (1969, 69))"
      ]
     },
     "execution_count": 3,
     "metadata": {},
     "output_type": "execute_result"
    }
   ],
   "source": [
    "# Checking the rows and columns\n",
    "train.shape,test.shape"
   ]
  },
  {
   "cell_type": "markdown",
   "metadata": {},
   "source": [
    "**we have 2952 rows and 70 columns in training data set whereas 1969 rows and 69 columns in test data**"
   ]
  },
  {
   "cell_type": "code",
   "execution_count": 4,
   "metadata": {},
   "outputs": [
    {
     "data": {
      "text/html": [
       "<div>\n",
       "<style scoped>\n",
       "    .dataframe tbody tr th:only-of-type {\n",
       "        vertical-align: middle;\n",
       "    }\n",
       "\n",
       "    .dataframe tbody tr th {\n",
       "        vertical-align: top;\n",
       "    }\n",
       "\n",
       "    .dataframe thead th {\n",
       "        text-align: right;\n",
       "    }\n",
       "</style>\n",
       "<table border=\"1\" class=\"dataframe\">\n",
       "  <thead>\n",
       "    <tr style=\"text-align: right;\">\n",
       "      <th></th>\n",
       "      <th>patient_id</th>\n",
       "      <th>tumor_cell_count</th>\n",
       "      <th>gender</th>\n",
       "      <th>age_group</th>\n",
       "      <th>race</th>\n",
       "      <th>year_of_diagnosis</th>\n",
       "      <th>morphology_code</th>\n",
       "      <th>year_of_death</th>\n",
       "      <th>smoke_units</th>\n",
       "      <th>area_code</th>\n",
       "      <th>...</th>\n",
       "      <th>symptom58</th>\n",
       "      <th>symptom59</th>\n",
       "      <th>symptom60</th>\n",
       "      <th>symptom61</th>\n",
       "      <th>symptom62</th>\n",
       "      <th>symptom63</th>\n",
       "      <th>symptom64</th>\n",
       "      <th>symptom65</th>\n",
       "      <th>symptom66</th>\n",
       "      <th>death_due_to_cancer</th>\n",
       "    </tr>\n",
       "  </thead>\n",
       "  <tbody>\n",
       "    <tr>\n",
       "      <th>0</th>\n",
       "      <td>TCBA-B8-0x204</td>\n",
       "      <td>7</td>\n",
       "      <td>Male</td>\n",
       "      <td>60-64</td>\n",
       "      <td>NaN</td>\n",
       "      <td>2010</td>\n",
       "      <td>81403</td>\n",
       "      <td>2016.0</td>\n",
       "      <td>34</td>\n",
       "      <td>2</td>\n",
       "      <td>...</td>\n",
       "      <td>0.0</td>\n",
       "      <td>0.0</td>\n",
       "      <td>0.0</td>\n",
       "      <td>0.0</td>\n",
       "      <td>0.0</td>\n",
       "      <td>0.0</td>\n",
       "      <td>0.0</td>\n",
       "      <td>0.0</td>\n",
       "      <td>0.0</td>\n",
       "      <td>1</td>\n",
       "    </tr>\n",
       "    <tr>\n",
       "      <th>1</th>\n",
       "      <td>TCBA-B8-0x1063</td>\n",
       "      <td>1</td>\n",
       "      <td>Male</td>\n",
       "      <td>85-89</td>\n",
       "      <td>White</td>\n",
       "      <td>2012</td>\n",
       "      <td>80463</td>\n",
       "      <td>2016.0</td>\n",
       "      <td>4</td>\n",
       "      <td>7</td>\n",
       "      <td>...</td>\n",
       "      <td>0.0</td>\n",
       "      <td>0.0</td>\n",
       "      <td>0.0</td>\n",
       "      <td>0.0</td>\n",
       "      <td>0.0</td>\n",
       "      <td>0.0</td>\n",
       "      <td>0.0</td>\n",
       "      <td>0.0</td>\n",
       "      <td>0.0</td>\n",
       "      <td>1</td>\n",
       "    </tr>\n",
       "    <tr>\n",
       "      <th>2</th>\n",
       "      <td>TCBA-B8-0xb7d</td>\n",
       "      <td>1</td>\n",
       "      <td>Female</td>\n",
       "      <td>70-74</td>\n",
       "      <td>White</td>\n",
       "      <td>2013</td>\n",
       "      <td>80103</td>\n",
       "      <td>2018.0</td>\n",
       "      <td>20</td>\n",
       "      <td>1</td>\n",
       "      <td>...</td>\n",
       "      <td>0.0</td>\n",
       "      <td>0.0</td>\n",
       "      <td>0.0</td>\n",
       "      <td>0.0</td>\n",
       "      <td>0.0</td>\n",
       "      <td>0.0</td>\n",
       "      <td>0.0</td>\n",
       "      <td>0.0</td>\n",
       "      <td>0.0</td>\n",
       "      <td>1</td>\n",
       "    </tr>\n",
       "    <tr>\n",
       "      <th>3</th>\n",
       "      <td>TCBA-B8-0xfa7</td>\n",
       "      <td>104</td>\n",
       "      <td>Female</td>\n",
       "      <td>65-69</td>\n",
       "      <td>White</td>\n",
       "      <td>2013</td>\n",
       "      <td>80463</td>\n",
       "      <td>2018.0</td>\n",
       "      <td>20</td>\n",
       "      <td>5</td>\n",
       "      <td>...</td>\n",
       "      <td>0.0</td>\n",
       "      <td>0.0</td>\n",
       "      <td>0.0</td>\n",
       "      <td>0.0</td>\n",
       "      <td>0.0</td>\n",
       "      <td>0.0</td>\n",
       "      <td>0.0</td>\n",
       "      <td>0.0</td>\n",
       "      <td>0.0</td>\n",
       "      <td>1</td>\n",
       "    </tr>\n",
       "    <tr>\n",
       "      <th>4</th>\n",
       "      <td>TCBA-B8-0xdc</td>\n",
       "      <td>21</td>\n",
       "      <td>Male</td>\n",
       "      <td>50-54</td>\n",
       "      <td>White</td>\n",
       "      <td>2010</td>\n",
       "      <td>80463</td>\n",
       "      <td>2016.0</td>\n",
       "      <td>20</td>\n",
       "      <td>5</td>\n",
       "      <td>...</td>\n",
       "      <td>0.0</td>\n",
       "      <td>0.0</td>\n",
       "      <td>0.0</td>\n",
       "      <td>0.0</td>\n",
       "      <td>0.0</td>\n",
       "      <td>0.0</td>\n",
       "      <td>0.0</td>\n",
       "      <td>0.0</td>\n",
       "      <td>0.0</td>\n",
       "      <td>1</td>\n",
       "    </tr>\n",
       "  </tbody>\n",
       "</table>\n",
       "<p>5 rows × 70 columns</p>\n",
       "</div>"
      ],
      "text/plain": [
       "       patient_id  tumor_cell_count  gender age_group   race  \\\n",
       "0   TCBA-B8-0x204                 7    Male     60-64    NaN   \n",
       "1  TCBA-B8-0x1063                 1    Male     85-89  White   \n",
       "2   TCBA-B8-0xb7d                 1  Female     70-74  White   \n",
       "3   TCBA-B8-0xfa7               104  Female     65-69  White   \n",
       "4    TCBA-B8-0xdc                21    Male     50-54  White   \n",
       "\n",
       "   year_of_diagnosis  morphology_code  year_of_death  smoke_units  area_code  \\\n",
       "0               2010            81403         2016.0           34          2   \n",
       "1               2012            80463         2016.0            4          7   \n",
       "2               2013            80103         2018.0           20          1   \n",
       "3               2013            80463         2018.0           20          5   \n",
       "4               2010            80463         2016.0           20          5   \n",
       "\n",
       "   ...  symptom58 symptom59  symptom60  symptom61  symptom62  symptom63  \\\n",
       "0  ...        0.0       0.0        0.0        0.0        0.0        0.0   \n",
       "1  ...        0.0       0.0        0.0        0.0        0.0        0.0   \n",
       "2  ...        0.0       0.0        0.0        0.0        0.0        0.0   \n",
       "3  ...        0.0       0.0        0.0        0.0        0.0        0.0   \n",
       "4  ...        0.0       0.0        0.0        0.0        0.0        0.0   \n",
       "\n",
       "   symptom64  symptom65  symptom66  death_due_to_cancer  \n",
       "0        0.0        0.0        0.0                    1  \n",
       "1        0.0        0.0        0.0                    1  \n",
       "2        0.0        0.0        0.0                    1  \n",
       "3        0.0        0.0        0.0                    1  \n",
       "4        0.0        0.0        0.0                    1  \n",
       "\n",
       "[5 rows x 70 columns]"
      ]
     },
     "execution_count": 4,
     "metadata": {},
     "output_type": "execute_result"
    }
   ],
   "source": [
    "train.head()"
   ]
  },
  {
   "cell_type": "code",
   "execution_count": 5,
   "metadata": {},
   "outputs": [
    {
     "data": {
      "text/html": [
       "<div>\n",
       "<style scoped>\n",
       "    .dataframe tbody tr th:only-of-type {\n",
       "        vertical-align: middle;\n",
       "    }\n",
       "\n",
       "    .dataframe tbody tr th {\n",
       "        vertical-align: top;\n",
       "    }\n",
       "\n",
       "    .dataframe thead th {\n",
       "        text-align: right;\n",
       "    }\n",
       "</style>\n",
       "<table border=\"1\" class=\"dataframe\">\n",
       "  <thead>\n",
       "    <tr style=\"text-align: right;\">\n",
       "      <th></th>\n",
       "      <th>patient_id</th>\n",
       "      <th>tumor_cell_count</th>\n",
       "      <th>gender</th>\n",
       "      <th>age_group</th>\n",
       "      <th>race</th>\n",
       "      <th>year_of_diagnosis</th>\n",
       "      <th>morphology_code</th>\n",
       "      <th>year_of_death</th>\n",
       "      <th>smoke_units</th>\n",
       "      <th>area_code</th>\n",
       "      <th>...</th>\n",
       "      <th>symptom57</th>\n",
       "      <th>symptom58</th>\n",
       "      <th>symptom59</th>\n",
       "      <th>symptom60</th>\n",
       "      <th>symptom61</th>\n",
       "      <th>symptom62</th>\n",
       "      <th>symptom63</th>\n",
       "      <th>symptom64</th>\n",
       "      <th>symptom65</th>\n",
       "      <th>symptom66</th>\n",
       "    </tr>\n",
       "  </thead>\n",
       "  <tbody>\n",
       "    <tr>\n",
       "      <th>0</th>\n",
       "      <td>TCBA-B8-0x7e9</td>\n",
       "      <td>1</td>\n",
       "      <td>Male</td>\n",
       "      <td>85-89</td>\n",
       "      <td>White</td>\n",
       "      <td>2009</td>\n",
       "      <td>80003</td>\n",
       "      <td>2014.0</td>\n",
       "      <td>25</td>\n",
       "      <td>4</td>\n",
       "      <td>...</td>\n",
       "      <td>0.0</td>\n",
       "      <td>0.0</td>\n",
       "      <td>0.0</td>\n",
       "      <td>0.0</td>\n",
       "      <td>0.0</td>\n",
       "      <td>0.0</td>\n",
       "      <td>0.0</td>\n",
       "      <td>0.0</td>\n",
       "      <td>0.0</td>\n",
       "      <td>0.0</td>\n",
       "    </tr>\n",
       "    <tr>\n",
       "      <th>1</th>\n",
       "      <td>TCBA-B8-0x6bc</td>\n",
       "      <td>1</td>\n",
       "      <td>Male</td>\n",
       "      <td>80-84</td>\n",
       "      <td>White</td>\n",
       "      <td>2013</td>\n",
       "      <td>82503</td>\n",
       "      <td>2020.0</td>\n",
       "      <td>12</td>\n",
       "      <td>8</td>\n",
       "      <td>...</td>\n",
       "      <td>0.0</td>\n",
       "      <td>0.0</td>\n",
       "      <td>0.0</td>\n",
       "      <td>0.0</td>\n",
       "      <td>0.0</td>\n",
       "      <td>0.0</td>\n",
       "      <td>0.0</td>\n",
       "      <td>0.0</td>\n",
       "      <td>0.0</td>\n",
       "      <td>0.0</td>\n",
       "    </tr>\n",
       "    <tr>\n",
       "      <th>2</th>\n",
       "      <td>TCBA-B8-0x1195</td>\n",
       "      <td>1</td>\n",
       "      <td>Male</td>\n",
       "      <td>60-64</td>\n",
       "      <td>White</td>\n",
       "      <td>2013</td>\n",
       "      <td>80703</td>\n",
       "      <td>2017.0</td>\n",
       "      <td>3</td>\n",
       "      <td>5</td>\n",
       "      <td>...</td>\n",
       "      <td>0.0</td>\n",
       "      <td>0.0</td>\n",
       "      <td>0.0</td>\n",
       "      <td>0.0</td>\n",
       "      <td>0.0</td>\n",
       "      <td>0.0</td>\n",
       "      <td>0.0</td>\n",
       "      <td>0.0</td>\n",
       "      <td>0.0</td>\n",
       "      <td>0.0</td>\n",
       "    </tr>\n",
       "    <tr>\n",
       "      <th>3</th>\n",
       "      <td>TCBA-B8-0x8a5</td>\n",
       "      <td>1</td>\n",
       "      <td>Male</td>\n",
       "      <td>85-89</td>\n",
       "      <td>White</td>\n",
       "      <td>2013</td>\n",
       "      <td>80103</td>\n",
       "      <td>2018.0</td>\n",
       "      <td>20</td>\n",
       "      <td>5</td>\n",
       "      <td>...</td>\n",
       "      <td>0.0</td>\n",
       "      <td>0.0</td>\n",
       "      <td>0.0</td>\n",
       "      <td>0.0</td>\n",
       "      <td>0.0</td>\n",
       "      <td>0.0</td>\n",
       "      <td>0.0</td>\n",
       "      <td>0.0</td>\n",
       "      <td>0.0</td>\n",
       "      <td>0.0</td>\n",
       "    </tr>\n",
       "    <tr>\n",
       "      <th>4</th>\n",
       "      <td>TCBA-B8-0xa21</td>\n",
       "      <td>1</td>\n",
       "      <td>Male</td>\n",
       "      <td>85-89</td>\n",
       "      <td>White</td>\n",
       "      <td>2009</td>\n",
       "      <td>80003</td>\n",
       "      <td>NaN</td>\n",
       "      <td>25</td>\n",
       "      <td>2</td>\n",
       "      <td>...</td>\n",
       "      <td>0.0</td>\n",
       "      <td>0.0</td>\n",
       "      <td>0.0</td>\n",
       "      <td>0.0</td>\n",
       "      <td>0.0</td>\n",
       "      <td>0.0</td>\n",
       "      <td>0.0</td>\n",
       "      <td>0.0</td>\n",
       "      <td>0.0</td>\n",
       "      <td>0.0</td>\n",
       "    </tr>\n",
       "  </tbody>\n",
       "</table>\n",
       "<p>5 rows × 69 columns</p>\n",
       "</div>"
      ],
      "text/plain": [
       "       patient_id  tumor_cell_count gender age_group   race  \\\n",
       "0   TCBA-B8-0x7e9                 1   Male     85-89  White   \n",
       "1   TCBA-B8-0x6bc                 1   Male     80-84  White   \n",
       "2  TCBA-B8-0x1195                 1   Male     60-64  White   \n",
       "3   TCBA-B8-0x8a5                 1   Male     85-89  White   \n",
       "4   TCBA-B8-0xa21                 1   Male     85-89  White   \n",
       "\n",
       "   year_of_diagnosis  morphology_code  year_of_death  smoke_units  area_code  \\\n",
       "0               2009            80003         2014.0           25          4   \n",
       "1               2013            82503         2020.0           12          8   \n",
       "2               2013            80703         2017.0            3          5   \n",
       "3               2013            80103         2018.0           20          5   \n",
       "4               2009            80003            NaN           25          2   \n",
       "\n",
       "   ...  symptom57 symptom58  symptom59  symptom60  symptom61  symptom62  \\\n",
       "0  ...        0.0       0.0        0.0        0.0        0.0        0.0   \n",
       "1  ...        0.0       0.0        0.0        0.0        0.0        0.0   \n",
       "2  ...        0.0       0.0        0.0        0.0        0.0        0.0   \n",
       "3  ...        0.0       0.0        0.0        0.0        0.0        0.0   \n",
       "4  ...        0.0       0.0        0.0        0.0        0.0        0.0   \n",
       "\n",
       "   symptom63  symptom64  symptom65  symptom66  \n",
       "0        0.0        0.0        0.0        0.0  \n",
       "1        0.0        0.0        0.0        0.0  \n",
       "2        0.0        0.0        0.0        0.0  \n",
       "3        0.0        0.0        0.0        0.0  \n",
       "4        0.0        0.0        0.0        0.0  \n",
       "\n",
       "[5 rows x 69 columns]"
      ]
     },
     "execution_count": 5,
     "metadata": {},
     "output_type": "execute_result"
    }
   ],
   "source": [
    "test.head()"
   ]
  },
  {
   "cell_type": "code",
   "execution_count": 6,
   "metadata": {},
   "outputs": [
    {
     "data": {
      "text/plain": [
       "patient_id              0.000000\n",
       "tumor_cell_count        0.000000\n",
       "gender                  0.000000\n",
       "age_group               0.846883\n",
       "race                   10.264228\n",
       "                         ...    \n",
       "symptom63               0.000000\n",
       "symptom64               0.000000\n",
       "symptom65               0.000000\n",
       "symptom66               0.000000\n",
       "death_due_to_cancer     0.000000\n",
       "Length: 70, dtype: float64"
      ]
     },
     "execution_count": 6,
     "metadata": {},
     "output_type": "execute_result"
    }
   ],
   "source": [
    "#ratio of null values in train data\n",
    "train.isnull().sum()/train.shape[0] *100"
   ]
  },
  {
   "cell_type": "code",
   "execution_count": 7,
   "metadata": {},
   "outputs": [
    {
     "data": {
      "text/plain": [
       "patient_id           0.000000\n",
       "tumor_cell_count     0.000000\n",
       "gender               0.000000\n",
       "age_group            0.761808\n",
       "race                10.106653\n",
       "                      ...    \n",
       "symptom62            0.050787\n",
       "symptom63            0.050787\n",
       "symptom64            0.050787\n",
       "symptom65            0.050787\n",
       "symptom66            0.050787\n",
       "Length: 69, dtype: float64"
      ]
     },
     "execution_count": 7,
     "metadata": {},
     "output_type": "execute_result"
    }
   ],
   "source": [
    "#ratio of null values in test data\n",
    "test.isnull().sum()/test.shape[0] *100"
   ]
  },
  {
   "cell_type": "markdown",
   "metadata": {},
   "source": [
    "**we have so many null values**"
   ]
  },
  {
   "cell_type": "code",
   "execution_count": 8,
   "metadata": {},
   "outputs": [
    {
     "name": "stdout",
     "output_type": "stream",
     "text": [
      "Categorical Features in Train Set: 5\n",
      "Numerical Features in Train Set: 65\n"
     ]
    }
   ],
   "source": [
    "#categorical features\n",
    "categorical = train.select_dtypes(include =[np.object])\n",
    "print(\"Categorical Features in Train Set:\",categorical.shape[1])\n",
    "\n",
    "#numerical features\n",
    "numerical= train.select_dtypes(include =[np.float64,np.int64])\n",
    "print(\"Numerical Features in Train Set:\",numerical.shape[1])"
   ]
  },
  {
   "cell_type": "code",
   "execution_count": 9,
   "metadata": {},
   "outputs": [
    {
     "name": "stdout",
     "output_type": "stream",
     "text": [
      "Categorical Features in Test Set: 5\n",
      "Numerical Features in Test Set: 64\n"
     ]
    }
   ],
   "source": [
    "#categorical features\n",
    "categorical = test.select_dtypes(include =[np.object])\n",
    "print(\"Categorical Features in Test Set:\",categorical.shape[1])\n",
    "\n",
    "#numerical features\n",
    "numerical= test.select_dtypes(include =[np.float64,np.int64])\n",
    "print(\"Numerical Features in Test Set:\",numerical.shape[1])"
   ]
  },
  {
   "cell_type": "code",
   "execution_count": 10,
   "metadata": {},
   "outputs": [
    {
     "name": "stdout",
     "output_type": "stream",
     "text": [
      "death due to cancer 30.05 % of the dataset\n",
      "death not due to cancer 69.95 % of the dataset\n"
     ]
    }
   ],
   "source": [
    "# The classes are heavily skewed we need to solve this issue later.\n",
    "print('death due to cancer', round(train['death_due_to_cancer'].value_counts()[0]/len(train) * 100,2), '% of the dataset')\n",
    "print('death not due to cancer', round(train['death_due_to_cancer'].value_counts()[1]/len(train) * 100,2), '% of the dataset')"
   ]
  },
  {
   "cell_type": "markdown",
   "metadata": {},
   "source": [
    "**the data is balanced healthy but some data are missing**"
   ]
  },
  {
   "cell_type": "markdown",
   "metadata": {},
   "source": [
    "# Step 3: Data Cleaning & EDA"
   ]
  },
  {
   "cell_type": "code",
   "execution_count": 11,
   "metadata": {},
   "outputs": [
    {
     "data": {
      "text/plain": [
       "patient_id               0\n",
       "tumor_cell_count         0\n",
       "gender                   0\n",
       "age_group               25\n",
       "race                   303\n",
       "                      ... \n",
       "symptom63                0\n",
       "symptom64                0\n",
       "symptom65                0\n",
       "symptom66                0\n",
       "death_due_to_cancer      0\n",
       "Length: 70, dtype: int64"
      ]
     },
     "execution_count": 11,
     "metadata": {},
     "output_type": "execute_result"
    }
   ],
   "source": [
    "train.isnull().sum()"
   ]
  },
  {
   "cell_type": "code",
   "execution_count": 12,
   "metadata": {},
   "outputs": [
    {
     "data": {
      "text/plain": [
       "array(['60-64', '85-89', '70-74', '65-69', '50-54', '75-79', '80-84',\n",
       "       '55-59', '90+', '40-44', '45-49', nan, '00-39'], dtype=object)"
      ]
     },
     "execution_count": 12,
     "metadata": {},
     "output_type": "execute_result"
    }
   ],
   "source": [
    "train['age_group'].unique()"
   ]
  },
  {
   "cell_type": "code",
   "execution_count": 13,
   "metadata": {},
   "outputs": [
    {
     "data": {
      "text/plain": [
       "array([nan, 'White', 'Asian', 'Black', 'Mixed', 'OtherEth', 'Chinese'],\n",
       "      dtype=object)"
      ]
     },
     "execution_count": 13,
     "metadata": {},
     "output_type": "execute_result"
    }
   ],
   "source": [
    "train['race'].unique()"
   ]
  },
  {
   "cell_type": "code",
   "execution_count": 14,
   "metadata": {},
   "outputs": [],
   "source": [
    "#removing these three codes because these are not required the cause of death is cancer \n",
    "train = train.drop(['patient_id','age_group','race','year_of_death','area_code'], axis = 1)"
   ]
  },
  {
   "cell_type": "code",
   "execution_count": 15,
   "metadata": {},
   "outputs": [
    {
     "data": {
      "text/plain": [
       "tumor_cell_count       0\n",
       "gender                 0\n",
       "year_of_diagnosis      0\n",
       "morphology_code        0\n",
       "smoke_units            0\n",
       "                      ..\n",
       "symptom63              0\n",
       "symptom64              0\n",
       "symptom65              0\n",
       "symptom66              0\n",
       "death_due_to_cancer    0\n",
       "Length: 65, dtype: int64"
      ]
     },
     "execution_count": 15,
     "metadata": {},
     "output_type": "execute_result"
    }
   ],
   "source": [
    "train.isnull().sum()"
   ]
  },
  {
   "cell_type": "code",
   "execution_count": 16,
   "metadata": {},
   "outputs": [],
   "source": [
    "test = test.drop(['patient_id','age_group','race','year_of_death','area_code'], axis = 1)"
   ]
  },
  {
   "cell_type": "code",
   "execution_count": 17,
   "metadata": {
    "scrolled": true
   },
   "outputs": [
    {
     "data": {
      "text/plain": [
       "tumor_cell_count     0\n",
       "gender               0\n",
       "year_of_diagnosis    0\n",
       "morphology_code      0\n",
       "smoke_units          0\n",
       "                    ..\n",
       "symptom62            1\n",
       "symptom63            1\n",
       "symptom64            1\n",
       "symptom65            1\n",
       "symptom66            1\n",
       "Length: 64, dtype: int64"
      ]
     },
     "execution_count": 17,
     "metadata": {},
     "output_type": "execute_result"
    }
   ],
   "source": [
    "test.isnull().sum()"
   ]
  },
  {
   "cell_type": "code",
   "execution_count": 18,
   "metadata": {},
   "outputs": [],
   "source": [
    "#filling the missing values\n",
    "cateogry_columns=test.select_dtypes(include=['object']).columns.tolist()\n",
    "integer_columns=test.select_dtypes(include=['int64','float64']).columns.tolist()\n",
    "for column in test:\n",
    "    if test[column].isnull().any():\n",
    "        if(column in cateogry_columns):\n",
    "            test[column]=test[column].fillna(test[column].mode()[0])\n",
    "        else:\n",
    "            test[column]=test[column].fillna(test[column].mode()[0])"
   ]
  },
  {
   "cell_type": "code",
   "execution_count": 19,
   "metadata": {},
   "outputs": [
    {
     "data": {
      "text/plain": [
       "tumor_cell_count     0\n",
       "gender               0\n",
       "year_of_diagnosis    0\n",
       "morphology_code      0\n",
       "smoke_units          0\n",
       "                    ..\n",
       "symptom62            0\n",
       "symptom63            0\n",
       "symptom64            0\n",
       "symptom65            0\n",
       "symptom66            0\n",
       "Length: 64, dtype: int64"
      ]
     },
     "execution_count": 19,
     "metadata": {},
     "output_type": "execute_result"
    }
   ],
   "source": [
    "test.isnull().sum()"
   ]
  },
  {
   "cell_type": "markdown",
   "metadata": {},
   "source": [
    "**thier is no null value presents in the train and test data**"
   ]
  },
  {
   "cell_type": "code",
   "execution_count": 20,
   "metadata": {},
   "outputs": [],
   "source": [
    "# Labelencoding\n",
    "encoder = LabelEncoder()\n",
    "\n",
    "for i in train.columns: \n",
    "    if train[i].dtype == 'object': \n",
    "        encoder.fit_transform(list(train[i].values))\n",
    "        train[i] = encoder.transform(train[i].values)\n",
    "         \n",
    "        for j in train.columns:\n",
    "            if train[j].dtype == 'int':\n",
    "                train[j] = train[j].astype('float64')\n",
    "\n",
    "for k in test.columns:\n",
    "    if test[k].dtype == 'object': \n",
    "        encoder.fit_transform(list(test[k].values))\n",
    "        test[k] = encoder.transform(test[k].values)\n",
    "         \n",
    "        for m in test.columns:\n",
    "            if test[m].dtype == 'int':\n",
    "                test[m] = test[m].astype('float64')"
   ]
  },
  {
   "cell_type": "code",
   "execution_count": 21,
   "metadata": {},
   "outputs": [
    {
     "data": {
      "text/html": [
       "<div>\n",
       "<style scoped>\n",
       "    .dataframe tbody tr th:only-of-type {\n",
       "        vertical-align: middle;\n",
       "    }\n",
       "\n",
       "    .dataframe tbody tr th {\n",
       "        vertical-align: top;\n",
       "    }\n",
       "\n",
       "    .dataframe thead th {\n",
       "        text-align: right;\n",
       "    }\n",
       "</style>\n",
       "<table border=\"1\" class=\"dataframe\">\n",
       "  <thead>\n",
       "    <tr style=\"text-align: right;\">\n",
       "      <th></th>\n",
       "      <th>tumor_cell_count</th>\n",
       "      <th>gender</th>\n",
       "      <th>year_of_diagnosis</th>\n",
       "      <th>morphology_code</th>\n",
       "      <th>smoke_units</th>\n",
       "      <th>alcohol_consume_units</th>\n",
       "      <th>symptoms</th>\n",
       "      <th>symptom1</th>\n",
       "      <th>symptom2</th>\n",
       "      <th>symptom3</th>\n",
       "      <th>...</th>\n",
       "      <th>symptom58</th>\n",
       "      <th>symptom59</th>\n",
       "      <th>symptom60</th>\n",
       "      <th>symptom61</th>\n",
       "      <th>symptom62</th>\n",
       "      <th>symptom63</th>\n",
       "      <th>symptom64</th>\n",
       "      <th>symptom65</th>\n",
       "      <th>symptom66</th>\n",
       "      <th>death_due_to_cancer</th>\n",
       "    </tr>\n",
       "  </thead>\n",
       "  <tbody>\n",
       "    <tr>\n",
       "      <th>0</th>\n",
       "      <td>7</td>\n",
       "      <td>1.0</td>\n",
       "      <td>2010</td>\n",
       "      <td>81403</td>\n",
       "      <td>34</td>\n",
       "      <td>2</td>\n",
       "      <td>116.0</td>\n",
       "      <td>0.0</td>\n",
       "      <td>0.0</td>\n",
       "      <td>0.0</td>\n",
       "      <td>...</td>\n",
       "      <td>0.0</td>\n",
       "      <td>0.0</td>\n",
       "      <td>0.0</td>\n",
       "      <td>0.0</td>\n",
       "      <td>0.0</td>\n",
       "      <td>0.0</td>\n",
       "      <td>0.0</td>\n",
       "      <td>0.0</td>\n",
       "      <td>0.0</td>\n",
       "      <td>1</td>\n",
       "    </tr>\n",
       "    <tr>\n",
       "      <th>1</th>\n",
       "      <td>1</td>\n",
       "      <td>1.0</td>\n",
       "      <td>2012</td>\n",
       "      <td>80463</td>\n",
       "      <td>4</td>\n",
       "      <td>5</td>\n",
       "      <td>60.0</td>\n",
       "      <td>0.0</td>\n",
       "      <td>0.0</td>\n",
       "      <td>0.0</td>\n",
       "      <td>...</td>\n",
       "      <td>0.0</td>\n",
       "      <td>0.0</td>\n",
       "      <td>0.0</td>\n",
       "      <td>0.0</td>\n",
       "      <td>0.0</td>\n",
       "      <td>0.0</td>\n",
       "      <td>0.0</td>\n",
       "      <td>0.0</td>\n",
       "      <td>0.0</td>\n",
       "      <td>1</td>\n",
       "    </tr>\n",
       "    <tr>\n",
       "      <th>2</th>\n",
       "      <td>1</td>\n",
       "      <td>0.0</td>\n",
       "      <td>2013</td>\n",
       "      <td>80103</td>\n",
       "      <td>20</td>\n",
       "      <td>4</td>\n",
       "      <td>12.0</td>\n",
       "      <td>0.0</td>\n",
       "      <td>0.0</td>\n",
       "      <td>0.0</td>\n",
       "      <td>...</td>\n",
       "      <td>0.0</td>\n",
       "      <td>0.0</td>\n",
       "      <td>0.0</td>\n",
       "      <td>0.0</td>\n",
       "      <td>0.0</td>\n",
       "      <td>0.0</td>\n",
       "      <td>0.0</td>\n",
       "      <td>0.0</td>\n",
       "      <td>0.0</td>\n",
       "      <td>1</td>\n",
       "    </tr>\n",
       "    <tr>\n",
       "      <th>3</th>\n",
       "      <td>104</td>\n",
       "      <td>0.0</td>\n",
       "      <td>2013</td>\n",
       "      <td>80463</td>\n",
       "      <td>20</td>\n",
       "      <td>3</td>\n",
       "      <td>148.0</td>\n",
       "      <td>0.0</td>\n",
       "      <td>0.0</td>\n",
       "      <td>0.0</td>\n",
       "      <td>...</td>\n",
       "      <td>0.0</td>\n",
       "      <td>0.0</td>\n",
       "      <td>0.0</td>\n",
       "      <td>0.0</td>\n",
       "      <td>0.0</td>\n",
       "      <td>0.0</td>\n",
       "      <td>0.0</td>\n",
       "      <td>0.0</td>\n",
       "      <td>0.0</td>\n",
       "      <td>1</td>\n",
       "    </tr>\n",
       "    <tr>\n",
       "      <th>4</th>\n",
       "      <td>21</td>\n",
       "      <td>1.0</td>\n",
       "      <td>2010</td>\n",
       "      <td>80463</td>\n",
       "      <td>20</td>\n",
       "      <td>2</td>\n",
       "      <td>260.0</td>\n",
       "      <td>0.0</td>\n",
       "      <td>0.0</td>\n",
       "      <td>0.0</td>\n",
       "      <td>...</td>\n",
       "      <td>0.0</td>\n",
       "      <td>0.0</td>\n",
       "      <td>0.0</td>\n",
       "      <td>0.0</td>\n",
       "      <td>0.0</td>\n",
       "      <td>0.0</td>\n",
       "      <td>0.0</td>\n",
       "      <td>0.0</td>\n",
       "      <td>0.0</td>\n",
       "      <td>1</td>\n",
       "    </tr>\n",
       "  </tbody>\n",
       "</table>\n",
       "<p>5 rows × 65 columns</p>\n",
       "</div>"
      ],
      "text/plain": [
       "   tumor_cell_count  gender  year_of_diagnosis  morphology_code  smoke_units  \\\n",
       "0                 7     1.0               2010            81403           34   \n",
       "1                 1     1.0               2012            80463            4   \n",
       "2                 1     0.0               2013            80103           20   \n",
       "3               104     0.0               2013            80463           20   \n",
       "4                21     1.0               2010            80463           20   \n",
       "\n",
       "   alcohol_consume_units  symptoms  symptom1  symptom2  symptom3  ...  \\\n",
       "0                      2     116.0       0.0       0.0       0.0  ...   \n",
       "1                      5      60.0       0.0       0.0       0.0  ...   \n",
       "2                      4      12.0       0.0       0.0       0.0  ...   \n",
       "3                      3     148.0       0.0       0.0       0.0  ...   \n",
       "4                      2     260.0       0.0       0.0       0.0  ...   \n",
       "\n",
       "   symptom58  symptom59  symptom60  symptom61  symptom62  symptom63  \\\n",
       "0        0.0        0.0        0.0        0.0        0.0        0.0   \n",
       "1        0.0        0.0        0.0        0.0        0.0        0.0   \n",
       "2        0.0        0.0        0.0        0.0        0.0        0.0   \n",
       "3        0.0        0.0        0.0        0.0        0.0        0.0   \n",
       "4        0.0        0.0        0.0        0.0        0.0        0.0   \n",
       "\n",
       "   symptom64  symptom65  symptom66  death_due_to_cancer  \n",
       "0        0.0        0.0        0.0                    1  \n",
       "1        0.0        0.0        0.0                    1  \n",
       "2        0.0        0.0        0.0                    1  \n",
       "3        0.0        0.0        0.0                    1  \n",
       "4        0.0        0.0        0.0                    1  \n",
       "\n",
       "[5 rows x 65 columns]"
      ]
     },
     "execution_count": 21,
     "metadata": {},
     "output_type": "execute_result"
    }
   ],
   "source": [
    "train.head()"
   ]
  },
  {
   "cell_type": "code",
   "execution_count": 22,
   "metadata": {},
   "outputs": [],
   "source": [
    "# Seperate Features and Target\n",
    "X = train.drop('death_due_to_cancer',axis=1)\n",
    "y = train['death_due_to_cancer']"
   ]
  },
  {
   "cell_type": "code",
   "execution_count": 23,
   "metadata": {},
   "outputs": [],
   "source": [
    "#Using normalization to X and test_predict\n",
    "\n",
    "scalar = MinMaxScaler()\n",
    "X_scalar = pd.DataFrame(scalar.fit_transform(X),columns = X.columns)\n",
    "\n",
    "# Normalization scalar for test prediction data\n",
    "test_scalar = pd.DataFrame(scalar.fit_transform(test),columns = test.columns)"
   ]
  },
  {
   "cell_type": "code",
   "execution_count": 24,
   "metadata": {},
   "outputs": [],
   "source": [
    "X_train,X_test,y_train,y_test = train_test_split(X_scalar,y,test_size=0.2,random_state=22)"
   ]
  },
  {
   "cell_type": "markdown",
   "metadata": {},
   "source": [
    "# importing machine learning modules"
   ]
  },
  {
   "cell_type": "code",
   "execution_count": 25,
   "metadata": {},
   "outputs": [],
   "source": [
    "from sklearn.linear_model import LogisticRegression\n",
    "from sklearn.tree import DecisionTreeRegressor\n",
    "from sklearn.neighbors import KNeighborsRegressor\n",
    "from sklearn.ensemble import RandomForestRegressor\n",
    "from sklearn.naive_bayes import GaussianNB"
   ]
  },
  {
   "cell_type": "code",
   "execution_count": 26,
   "metadata": {},
   "outputs": [],
   "source": [
    "algos = [LogisticRegression(),KNeighborsRegressor(), DecisionTreeRegressor(), RandomForestRegressor(),GaussianNB()]\n",
    "names = ['Logistic Regression','k-Nearest Neighbors','Decision Trees','Random Forest Regressor','Naive Bayes']\n",
    "f1_score_list = []"
   ]
  },
  {
   "cell_type": "code",
   "execution_count": 27,
   "metadata": {},
   "outputs": [],
   "source": [
    "for name in algos:\n",
    "    model = name\n",
    "    model.fit(X_train,y_train)\n",
    "    y_pred = model.predict(X_test)\n",
    "    MSE= metrics.mean_squared_error(y_test,y_pred)\n",
    "    rmse = np.sqrt(MSE)\n",
    "    f1_score_list.append(rmse)"
   ]
  },
  {
   "cell_type": "code",
   "execution_count": 28,
   "metadata": {},
   "outputs": [],
   "source": [
    "evaluation = pd.DataFrame({'Model': names,\n",
    "                           'RMSE': f1_score_list})"
   ]
  },
  {
   "cell_type": "code",
   "execution_count": 29,
   "metadata": {},
   "outputs": [
    {
     "data": {
      "text/html": [
       "<div>\n",
       "<style scoped>\n",
       "    .dataframe tbody tr th:only-of-type {\n",
       "        vertical-align: middle;\n",
       "    }\n",
       "\n",
       "    .dataframe tbody tr th {\n",
       "        vertical-align: top;\n",
       "    }\n",
       "\n",
       "    .dataframe thead th {\n",
       "        text-align: right;\n",
       "    }\n",
       "</style>\n",
       "<table border=\"1\" class=\"dataframe\">\n",
       "  <thead>\n",
       "    <tr style=\"text-align: right;\">\n",
       "      <th></th>\n",
       "      <th>Model</th>\n",
       "      <th>RMSE</th>\n",
       "    </tr>\n",
       "  </thead>\n",
       "  <tbody>\n",
       "    <tr>\n",
       "      <th>0</th>\n",
       "      <td>Logistic Regression</td>\n",
       "      <td>0.572937</td>\n",
       "    </tr>\n",
       "    <tr>\n",
       "      <th>1</th>\n",
       "      <td>k-Nearest Neighbors</td>\n",
       "      <td>0.514428</td>\n",
       "    </tr>\n",
       "    <tr>\n",
       "      <th>2</th>\n",
       "      <td>Decision Trees</td>\n",
       "      <td>0.627891</td>\n",
       "    </tr>\n",
       "    <tr>\n",
       "      <th>3</th>\n",
       "      <td>Random Forest Regressor</td>\n",
       "      <td>0.470422</td>\n",
       "    </tr>\n",
       "    <tr>\n",
       "      <th>4</th>\n",
       "      <td>Naive Bayes</td>\n",
       "      <td>0.674656</td>\n",
       "    </tr>\n",
       "  </tbody>\n",
       "</table>\n",
       "</div>"
      ],
      "text/plain": [
       "                     Model      RMSE\n",
       "0      Logistic Regression  0.572937\n",
       "1      k-Nearest Neighbors  0.514428\n",
       "2           Decision Trees  0.627891\n",
       "3  Random Forest Regressor  0.470422\n",
       "4              Naive Bayes  0.674656"
      ]
     },
     "execution_count": 29,
     "metadata": {},
     "output_type": "execute_result"
    }
   ],
   "source": [
    "evaluation"
   ]
  },
  {
   "cell_type": "markdown",
   "metadata": {},
   "source": [
    "**Picking the better module for the prediction**"
   ]
  },
  {
   "cell_type": "code",
   "execution_count": 30,
   "metadata": {},
   "outputs": [],
   "source": [
    "model1 = DecisionTreeRegressor()\n",
    "model1.fit(X_train, y_train)\n",
    "\n",
    "pred_train = model1.predict(X_train) \n",
    "pred_test = model1.predict(X_test)"
   ]
  },
  {
   "cell_type": "markdown",
   "metadata": {},
   "source": [
    "**I picked decision tree because its not showing any under and over fitting so**"
   ]
  },
  {
   "cell_type": "markdown",
   "metadata": {},
   "source": [
    "# Evaluation"
   ]
  },
  {
   "cell_type": "code",
   "execution_count": 31,
   "metadata": {},
   "outputs": [
    {
     "name": "stdout",
     "output_type": "stream",
     "text": [
      "Train f1_score: 100.0\n"
     ]
    }
   ],
   "source": [
    "import math\n",
    "# Evaluating Train Data\n",
    "train_f1_score = 100 * metrics.f1_score(y_train, pred_train)\n",
    "print(f'Train f1_score: {train_f1_score}')"
   ]
  },
  {
   "cell_type": "code",
   "execution_count": 32,
   "metadata": {},
   "outputs": [
    {
     "name": "stdout",
     "output_type": "stream",
     "text": [
      "Test f1_score: 70.79207920792078\n",
      "Test MSE : 0.3993231810490694\n",
      "Test RMSE : 0.6319202331379091\n"
     ]
    }
   ],
   "source": [
    "# Evaluating Test Data\n",
    "test_f1_score = 100 * metrics.f1_score(y_test, pred_test)\n",
    "print(f'Test f1_score: {test_f1_score}')\n",
    "\n",
    "test_mse = metrics.mean_squared_error(y_test, pred_test)\n",
    "print(f'Test MSE : {test_mse}')\n",
    "\n",
    "test_RMSE = math.sqrt(metrics.mean_squared_error(y_test, pred_test))\n",
    "print(f'Test RMSE : {test_RMSE}')"
   ]
  },
  {
   "cell_type": "code",
   "execution_count": 33,
   "metadata": {},
   "outputs": [
    {
     "data": {
      "image/png": "[encoded data removed]",
      "text/plain": [
       "<Figure size 1152x648 with 1 Axes>"
      ]
     },
     "metadata": {
      "needs_background": "light"
     },
     "output_type": "display_data"
    }
   ],
   "source": [
    "# Visualization for Actual and Predicted Sales in testing Data\n",
    "test = pd.DataFrame(\n",
    "    {'Predicted death':pred_test, 'Actual death':y_test}\n",
    ")\n",
    "\n",
    "fig= plt.figure(\n",
    "    figsize=(16, 9)\n",
    ")\n",
    "\n",
    "test = test.reset_index()\n",
    "test = test.drop(\n",
    "    ['index'],axis=1\n",
    ")\n",
    "\n",
    "plt.plot(test[:50])\n",
    "plt.legend(['Actual Sales','Predicted Sales'])\n",
    "plt.title('Actual & Predicted Sales')\n",
    "plt.show()"
   ]
  },
  {
   "cell_type": "markdown",
   "metadata": {},
   "source": [
    "# Testing the given data"
   ]
  },
  {
   "cell_type": "code",
   "execution_count": 35,
   "metadata": {},
   "outputs": [],
   "source": [
    "final_test = model1.predict(test_scalar)"
   ]
  },
  {
   "cell_type": "code",
   "execution_count": 39,
   "metadata": {},
   "outputs": [],
   "source": [
    "sub = pd.read_csv(\"test.csv\")"
   ]
  },
  {
   "cell_type": "code",
   "execution_count": 46,
   "metadata": {},
   "outputs": [],
   "source": [
    "sub1 = sub.patient_id"
   ]
  },
  {
   "cell_type": "code",
   "execution_count": 59,
   "metadata": {},
   "outputs": [],
   "source": [
    "final_test = final_test.astype('int64')"
   ]
  },
  {
   "cell_type": "code",
   "execution_count": 64,
   "metadata": {},
   "outputs": [],
   "source": [
    "submission = pd.DataFrame(\n",
    "    {'patient_id':sub1, 'death_due_to_cancer':final_test})"
   ]
  },
  {
   "cell_type": "code",
   "execution_count": 65,
   "metadata": {},
   "outputs": [
    {
     "data": {
      "text/html": [
       "<div>\n",
       "<style scoped>\n",
       "    .dataframe tbody tr th:only-of-type {\n",
       "        vertical-align: middle;\n",
       "    }\n",
       "\n",
       "    .dataframe tbody tr th {\n",
       "        vertical-align: top;\n",
       "    }\n",
       "\n",
       "    .dataframe thead th {\n",
       "        text-align: right;\n",
       "    }\n",
       "</style>\n",
       "<table border=\"1\" class=\"dataframe\">\n",
       "  <thead>\n",
       "    <tr style=\"text-align: right;\">\n",
       "      <th></th>\n",
       "      <th>patient_id</th>\n",
       "      <th>death_due_to_cancer</th>\n",
       "    </tr>\n",
       "  </thead>\n",
       "  <tbody>\n",
       "    <tr>\n",
       "      <th>0</th>\n",
       "      <td>TCBA-B8-0x7e9</td>\n",
       "      <td>1</td>\n",
       "    </tr>\n",
       "    <tr>\n",
       "      <th>1</th>\n",
       "      <td>TCBA-B8-0x6bc</td>\n",
       "      <td>1</td>\n",
       "    </tr>\n",
       "    <tr>\n",
       "      <th>2</th>\n",
       "      <td>TCBA-B8-0x1195</td>\n",
       "      <td>1</td>\n",
       "    </tr>\n",
       "    <tr>\n",
       "      <th>3</th>\n",
       "      <td>TCBA-B8-0x8a5</td>\n",
       "      <td>1</td>\n",
       "    </tr>\n",
       "    <tr>\n",
       "      <th>4</th>\n",
       "      <td>TCBA-B8-0xa21</td>\n",
       "      <td>1</td>\n",
       "    </tr>\n",
       "    <tr>\n",
       "      <th>...</th>\n",
       "      <td>...</td>\n",
       "      <td>...</td>\n",
       "    </tr>\n",
       "    <tr>\n",
       "      <th>1964</th>\n",
       "      <td>TCBA-B8-0xc5f</td>\n",
       "      <td>1</td>\n",
       "    </tr>\n",
       "    <tr>\n",
       "      <th>1965</th>\n",
       "      <td>TCBA-B8-0x267</td>\n",
       "      <td>1</td>\n",
       "    </tr>\n",
       "    <tr>\n",
       "      <th>1966</th>\n",
       "      <td>TCBA-B8-0xce9</td>\n",
       "      <td>1</td>\n",
       "    </tr>\n",
       "    <tr>\n",
       "      <th>1967</th>\n",
       "      <td>TCBA-B8-0xc20</td>\n",
       "      <td>1</td>\n",
       "    </tr>\n",
       "    <tr>\n",
       "      <th>1968</th>\n",
       "      <td>TCBA-B8-0x742</td>\n",
       "      <td>1</td>\n",
       "    </tr>\n",
       "  </tbody>\n",
       "</table>\n",
       "<p>1969 rows × 2 columns</p>\n",
       "</div>"
      ],
      "text/plain": [
       "          patient_id  death_due_to_cancer\n",
       "0      TCBA-B8-0x7e9                    1\n",
       "1      TCBA-B8-0x6bc                    1\n",
       "2     TCBA-B8-0x1195                    1\n",
       "3      TCBA-B8-0x8a5                    1\n",
       "4      TCBA-B8-0xa21                    1\n",
       "...              ...                  ...\n",
       "1964   TCBA-B8-0xc5f                    1\n",
       "1965   TCBA-B8-0x267                    1\n",
       "1966   TCBA-B8-0xce9                    1\n",
       "1967   TCBA-B8-0xc20                    1\n",
       "1968   TCBA-B8-0x742                    1\n",
       "\n",
       "[1969 rows x 2 columns]"
      ]
     },
     "execution_count": 65,
     "metadata": {},
     "output_type": "execute_result"
    }
   ],
   "source": [
    "submission"
   ]
  },
  {
   "cell_type": "code",
   "execution_count": 66,
   "metadata": {},
   "outputs": [],
   "source": [
    "submission.to_csv('Submission.csv', index = False)"
   ]
  }
 ],
 "metadata": {
  "kernelspec": {
   "display_name": "Python 3",
   "language": "python",
   "name": "python3"
  },
  "language_info": {
   "codemirror_mode": {
    "name": "ipython",
    "version": 3
   },
   "file_extension": ".py",
   "mimetype": "text/x-python",
   "name": "python",
   "nbconvert_exporter": "python",
   "pygments_lexer": "ipython3",
   "version": "3.8.5"
  }
 },
 "nbformat": 4,
 "nbformat_minor": 4
}
