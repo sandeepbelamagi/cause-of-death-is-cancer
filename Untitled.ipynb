{
 "cells": [
  {
   "cell_type": "code",
   "execution_count": 1,
   "metadata": {},
   "outputs": [],
   "source": [
    "import numpy as np\n",
    "# Visulaization Library\n",
    "import matplotlib.pyplot as plt\n",
    "%matplotlib inline\n",
    "import seaborn as sns\n",
    "\n",
    "# EDA\n",
    "import pandas as pd\n",
    "from sklearn.preprocessing import LabelEncoder\n",
    "from sklearn.preprocessing import MinMaxScaler\n",
    "from sklearn.model_selection import train_test_split\n",
    "from sklearn import metrics\n",
    "\n",
    "import warnings\n",
    "warnings.filterwarnings('always')\n",
    "warnings.filterwarnings('ignore')"
   ]
  },
  {
   "cell_type": "code",
   "execution_count": 2,
   "metadata": {},
   "outputs": [],
   "source": [
    "# Loading train and test data\n",
    "train = pd.read_csv(\"train.csv\")\n",
    "test = pd.read_csv(\"test.csv\")"
   ]
  },
  {
   "cell_type": "code",
   "execution_count": 3,
   "metadata": {},
   "outputs": [
    {
     "data": {
      "text/html": [
       "<div>\n",
       "<style scoped>\n",
       "    .dataframe tbody tr th:only-of-type {\n",
       "        vertical-align: middle;\n",
       "    }\n",
       "\n",
       "    .dataframe tbody tr th {\n",
       "        vertical-align: top;\n",
       "    }\n",
       "\n",
       "    .dataframe thead th {\n",
       "        text-align: right;\n",
       "    }\n",
       "</style>\n",
       "<table border=\"1\" class=\"dataframe\">\n",
       "  <thead>\n",
       "    <tr style=\"text-align: right;\">\n",
       "      <th></th>\n",
       "      <th>patient_id</th>\n",
       "      <th>tumor_cell_count</th>\n",
       "      <th>gender</th>\n",
       "      <th>age_group</th>\n",
       "      <th>race</th>\n",
       "      <th>year_of_diagnosis</th>\n",
       "      <th>morphology_code</th>\n",
       "      <th>year_of_death</th>\n",
       "      <th>smoke_units</th>\n",
       "      <th>area_code</th>\n",
       "      <th>...</th>\n",
       "      <th>symptom58</th>\n",
       "      <th>symptom59</th>\n",
       "      <th>symptom60</th>\n",
       "      <th>symptom61</th>\n",
       "      <th>symptom62</th>\n",
       "      <th>symptom63</th>\n",
       "      <th>symptom64</th>\n",
       "      <th>symptom65</th>\n",
       "      <th>symptom66</th>\n",
       "      <th>death_due_to_cancer</th>\n",
       "    </tr>\n",
       "  </thead>\n",
       "  <tbody>\n",
       "    <tr>\n",
       "      <th>0</th>\n",
       "      <td>TCBA-B8-0x204</td>\n",
       "      <td>7</td>\n",
       "      <td>Male</td>\n",
       "      <td>60-64</td>\n",
       "      <td>NaN</td>\n",
       "      <td>2010</td>\n",
       "      <td>81403</td>\n",
       "      <td>2016.0</td>\n",
       "      <td>34</td>\n",
       "      <td>2</td>\n",
       "      <td>...</td>\n",
       "      <td>0.0</td>\n",
       "      <td>0.0</td>\n",
       "      <td>0.0</td>\n",
       "      <td>0.0</td>\n",
       "      <td>0.0</td>\n",
       "      <td>0.0</td>\n",
       "      <td>0.0</td>\n",
       "      <td>0.0</td>\n",
       "      <td>0.0</td>\n",
       "      <td>1</td>\n",
       "    </tr>\n",
       "    <tr>\n",
       "      <th>1</th>\n",
       "      <td>TCBA-B8-0x1063</td>\n",
       "      <td>1</td>\n",
       "      <td>Male</td>\n",
       "      <td>85-89</td>\n",
       "      <td>White</td>\n",
       "      <td>2012</td>\n",
       "      <td>80463</td>\n",
       "      <td>2016.0</td>\n",
       "      <td>4</td>\n",
       "      <td>7</td>\n",
       "      <td>...</td>\n",
       "      <td>0.0</td>\n",
       "      <td>0.0</td>\n",
       "      <td>0.0</td>\n",
       "      <td>0.0</td>\n",
       "      <td>0.0</td>\n",
       "      <td>0.0</td>\n",
       "      <td>0.0</td>\n",
       "      <td>0.0</td>\n",
       "      <td>0.0</td>\n",
       "      <td>1</td>\n",
       "    </tr>\n",
       "    <tr>\n",
       "      <th>2</th>\n",
       "      <td>TCBA-B8-0xb7d</td>\n",
       "      <td>1</td>\n",
       "      <td>Female</td>\n",
       "      <td>70-74</td>\n",
       "      <td>White</td>\n",
       "      <td>2013</td>\n",
       "      <td>80103</td>\n",
       "      <td>2018.0</td>\n",
       "      <td>20</td>\n",
       "      <td>1</td>\n",
       "      <td>...</td>\n",
       "      <td>0.0</td>\n",
       "      <td>0.0</td>\n",
       "      <td>0.0</td>\n",
       "      <td>0.0</td>\n",
       "      <td>0.0</td>\n",
       "      <td>0.0</td>\n",
       "      <td>0.0</td>\n",
       "      <td>0.0</td>\n",
       "      <td>0.0</td>\n",
       "      <td>1</td>\n",
       "    </tr>\n",
       "    <tr>\n",
       "      <th>3</th>\n",
       "      <td>TCBA-B8-0xfa7</td>\n",
       "      <td>104</td>\n",
       "      <td>Female</td>\n",
       "      <td>65-69</td>\n",
       "      <td>White</td>\n",
       "      <td>2013</td>\n",
       "      <td>80463</td>\n",
       "      <td>2018.0</td>\n",
       "      <td>20</td>\n",
       "      <td>5</td>\n",
       "      <td>...</td>\n",
       "      <td>0.0</td>\n",
       "      <td>0.0</td>\n",
       "      <td>0.0</td>\n",
       "      <td>0.0</td>\n",
       "      <td>0.0</td>\n",
       "      <td>0.0</td>\n",
       "      <td>0.0</td>\n",
       "      <td>0.0</td>\n",
       "      <td>0.0</td>\n",
       "      <td>1</td>\n",
       "    </tr>\n",
       "    <tr>\n",
       "      <th>4</th>\n",
       "      <td>TCBA-B8-0xdc</td>\n",
       "      <td>21</td>\n",
       "      <td>Male</td>\n",
       "      <td>50-54</td>\n",
       "      <td>White</td>\n",
       "      <td>2010</td>\n",
       "      <td>80463</td>\n",
       "      <td>2016.0</td>\n",
       "      <td>20</td>\n",
       "      <td>5</td>\n",
       "      <td>...</td>\n",
       "      <td>0.0</td>\n",
       "      <td>0.0</td>\n",
       "      <td>0.0</td>\n",
       "      <td>0.0</td>\n",
       "      <td>0.0</td>\n",
       "      <td>0.0</td>\n",
       "      <td>0.0</td>\n",
       "      <td>0.0</td>\n",
       "      <td>0.0</td>\n",
       "      <td>1</td>\n",
       "    </tr>\n",
       "  </tbody>\n",
       "</table>\n",
       "<p>5 rows × 70 columns</p>\n",
       "</div>"
      ],
      "text/plain": [
       "       patient_id  tumor_cell_count  gender age_group   race  \\\n",
       "0   TCBA-B8-0x204                 7    Male     60-64    NaN   \n",
       "1  TCBA-B8-0x1063                 1    Male     85-89  White   \n",
       "2   TCBA-B8-0xb7d                 1  Female     70-74  White   \n",
       "3   TCBA-B8-0xfa7               104  Female     65-69  White   \n",
       "4    TCBA-B8-0xdc                21    Male     50-54  White   \n",
       "\n",
       "   year_of_diagnosis  morphology_code  year_of_death  smoke_units  area_code  \\\n",
       "0               2010            81403         2016.0           34          2   \n",
       "1               2012            80463         2016.0            4          7   \n",
       "2               2013            80103         2018.0           20          1   \n",
       "3               2013            80463         2018.0           20          5   \n",
       "4               2010            80463         2016.0           20          5   \n",
       "\n",
       "   ...  symptom58 symptom59  symptom60  symptom61  symptom62  symptom63  \\\n",
       "0  ...        0.0       0.0        0.0        0.0        0.0        0.0   \n",
       "1  ...        0.0       0.0        0.0        0.0        0.0        0.0   \n",
       "2  ...        0.0       0.0        0.0        0.0        0.0        0.0   \n",
       "3  ...        0.0       0.0        0.0        0.0        0.0        0.0   \n",
       "4  ...        0.0       0.0        0.0        0.0        0.0        0.0   \n",
       "\n",
       "   symptom64  symptom65  symptom66  death_due_to_cancer  \n",
       "0        0.0        0.0        0.0                    1  \n",
       "1        0.0        0.0        0.0                    1  \n",
       "2        0.0        0.0        0.0                    1  \n",
       "3        0.0        0.0        0.0                    1  \n",
       "4        0.0        0.0        0.0                    1  \n",
       "\n",
       "[5 rows x 70 columns]"
      ]
     },
     "execution_count": 3,
     "metadata": {},
     "output_type": "execute_result"
    }
   ],
   "source": [
    "train.head()"
   ]
  },
  {
   "cell_type": "code",
   "execution_count": 4,
   "metadata": {},
   "outputs": [],
   "source": [
    "#removing these three codes because these are not required the cause of death is cancer \n",
    "train = train.drop(['patient_id','age_group','race','year_of_death','area_code'], axis = 1)"
   ]
  },
  {
   "cell_type": "code",
   "execution_count": 5,
   "metadata": {},
   "outputs": [],
   "source": [
    "test = test.drop(['patient_id','age_group','race','year_of_death','area_code'], axis = 1)"
   ]
  },
  {
   "cell_type": "code",
   "execution_count": 6,
   "metadata": {},
   "outputs": [],
   "source": [
    "#filling the missing values\n",
    "cateogry_columns=test.select_dtypes(include=['object']).columns.tolist()\n",
    "integer_columns=test.select_dtypes(include=['int64','float64']).columns.tolist()\n",
    "for column in test:\n",
    "    if test[column].isnull().any():\n",
    "        if(column in cateogry_columns):\n",
    "            test[column]=test[column].fillna(test[column].mode()[0])\n",
    "        else:\n",
    "            test[column]=test[column].fillna(test[column].mode()[0])"
   ]
  },
  {
   "cell_type": "code",
   "execution_count": 7,
   "metadata": {},
   "outputs": [],
   "source": [
    "# Labelencoding\n",
    "encoder = LabelEncoder()\n",
    "\n",
    "for i in train.columns: \n",
    "    if train[i].dtype == 'object': \n",
    "        encoder.fit_transform(list(train[i].values))\n",
    "        train[i] = encoder.transform(train[i].values)\n",
    "         \n",
    "        for j in train.columns:\n",
    "            if train[j].dtype == 'int':\n",
    "                train[j] = train[j].astype('float64')\n",
    "\n",
    "for k in test.columns:\n",
    "    if test[k].dtype == 'object': \n",
    "        encoder.fit_transform(list(test[k].values))\n",
    "        test[k] = encoder.transform(test[k].values)\n",
    "         \n",
    "        for m in test.columns:\n",
    "            if test[m].dtype == 'int':\n",
    "                test[m] = test[m].astype('float64')"
   ]
  },
  {
   "cell_type": "code",
   "execution_count": 8,
   "metadata": {},
   "outputs": [],
   "source": [
    "X = train.drop('death_due_to_cancer',axis=1)\n",
    "y = train['death_due_to_cancer']"
   ]
  },
  {
   "cell_type": "code",
   "execution_count": 9,
   "metadata": {},
   "outputs": [],
   "source": [
    "#Using normalization to X and test_predict\n",
    "\n",
    "scalar = MinMaxScaler()\n",
    "X_scalar = pd.DataFrame(scalar.fit_transform(X),columns = X.columns)\n",
    "\n",
    "# Normalization scalar for test prediction data\n",
    "test_scalar = pd.DataFrame(scalar.fit_transform(test),columns = test.columns)"
   ]
  },
  {
   "cell_type": "code",
   "execution_count": 10,
   "metadata": {},
   "outputs": [
    {
     "data": {
      "text/plain": [
       "tumor_cell_count     0\n",
       "gender               0\n",
       "year_of_diagnosis    0\n",
       "morphology_code      0\n",
       "smoke_units          0\n",
       "                    ..\n",
       "symptom62            0\n",
       "symptom63            0\n",
       "symptom64            0\n",
       "symptom65            0\n",
       "symptom66            0\n",
       "Length: 64, dtype: int64"
      ]
     },
     "execution_count": 10,
     "metadata": {},
     "output_type": "execute_result"
    }
   ],
   "source": [
    "test_scalar.isnull().sum()"
   ]
  },
  {
   "cell_type": "code",
   "execution_count": 11,
   "metadata": {},
   "outputs": [],
   "source": [
    "from sklearn.decomposition import PCA"
   ]
  },
  {
   "cell_type": "code",
   "execution_count": 18,
   "metadata": {},
   "outputs": [],
   "source": [
    "pca = PCA(n_components = 2)\n",
    "# pca.fit(X_scalar)\n",
    "x_pca = pd.DataFrame(pca.fit_transform(X_scalar))"
   ]
  },
  {
   "cell_type": "code",
   "execution_count": 19,
   "metadata": {},
   "outputs": [
    {
     "data": {
      "text/html": [
       "<div>\n",
       "<style scoped>\n",
       "    .dataframe tbody tr th:only-of-type {\n",
       "        vertical-align: middle;\n",
       "    }\n",
       "\n",
       "    .dataframe tbody tr th {\n",
       "        vertical-align: top;\n",
       "    }\n",
       "\n",
       "    .dataframe thead th {\n",
       "        text-align: right;\n",
       "    }\n",
       "</style>\n",
       "<table border=\"1\" class=\"dataframe\">\n",
       "  <thead>\n",
       "    <tr style=\"text-align: right;\">\n",
       "      <th></th>\n",
       "      <th>0</th>\n",
       "      <th>1</th>\n",
       "    </tr>\n",
       "  </thead>\n",
       "  <tbody>\n",
       "    <tr>\n",
       "      <th>0</th>\n",
       "      <td>-0.002410</td>\n",
       "      <td>-0.641617</td>\n",
       "    </tr>\n",
       "    <tr>\n",
       "      <th>1</th>\n",
       "      <td>-0.372507</td>\n",
       "      <td>-0.482264</td>\n",
       "    </tr>\n",
       "    <tr>\n",
       "      <th>2</th>\n",
       "      <td>0.148964</td>\n",
       "      <td>0.122700</td>\n",
       "    </tr>\n",
       "    <tr>\n",
       "      <th>3</th>\n",
       "      <td>0.145020</td>\n",
       "      <td>0.116344</td>\n",
       "    </tr>\n",
       "    <tr>\n",
       "      <th>4</th>\n",
       "      <td>-0.205517</td>\n",
       "      <td>1.310766</td>\n",
       "    </tr>\n",
       "    <tr>\n",
       "      <th>...</th>\n",
       "      <td>...</td>\n",
       "      <td>...</td>\n",
       "    </tr>\n",
       "    <tr>\n",
       "      <th>2947</th>\n",
       "      <td>1.997935</td>\n",
       "      <td>-0.262089</td>\n",
       "    </tr>\n",
       "    <tr>\n",
       "      <th>2948</th>\n",
       "      <td>0.470564</td>\n",
       "      <td>0.163147</td>\n",
       "    </tr>\n",
       "    <tr>\n",
       "      <th>2949</th>\n",
       "      <td>-0.365617</td>\n",
       "      <td>-0.453298</td>\n",
       "    </tr>\n",
       "    <tr>\n",
       "      <th>2950</th>\n",
       "      <td>-0.642543</td>\n",
       "      <td>0.627527</td>\n",
       "    </tr>\n",
       "    <tr>\n",
       "      <th>2951</th>\n",
       "      <td>-0.725214</td>\n",
       "      <td>1.020672</td>\n",
       "    </tr>\n",
       "  </tbody>\n",
       "</table>\n",
       "<p>2952 rows × 2 columns</p>\n",
       "</div>"
      ],
      "text/plain": [
       "             0         1\n",
       "0    -0.002410 -0.641617\n",
       "1    -0.372507 -0.482264\n",
       "2     0.148964  0.122700\n",
       "3     0.145020  0.116344\n",
       "4    -0.205517  1.310766\n",
       "...        ...       ...\n",
       "2947  1.997935 -0.262089\n",
       "2948  0.470564  0.163147\n",
       "2949 -0.365617 -0.453298\n",
       "2950 -0.642543  0.627527\n",
       "2951 -0.725214  1.020672\n",
       "\n",
       "[2952 rows x 2 columns]"
      ]
     },
     "execution_count": 19,
     "metadata": {},
     "output_type": "execute_result"
    }
   ],
   "source": [
    "x_pca"
   ]
  },
  {
   "cell_type": "code",
   "execution_count": 20,
   "metadata": {},
   "outputs": [],
   "source": [
    "test_pca = pd.DataFrame(pca.fit_transform(test_scalar))"
   ]
  },
  {
   "cell_type": "code",
   "execution_count": 21,
   "metadata": {},
   "outputs": [],
   "source": [
    "X_train,X_test,y_train,y_test = train_test_split(x_pca,y,test_size=0.2,random_state=22)"
   ]
  },
  {
   "cell_type": "code",
   "execution_count": 22,
   "metadata": {},
   "outputs": [],
   "source": [
    "from sklearn.linear_model import LogisticRegression\n",
    "from sklearn.tree import DecisionTreeRegressor\n",
    "from sklearn.neighbors import KNeighborsRegressor\n",
    "from sklearn.ensemble import RandomForestRegressor\n",
    "from sklearn.naive_bayes import GaussianNB"
   ]
  },
  {
   "cell_type": "code",
   "execution_count": 23,
   "metadata": {},
   "outputs": [],
   "source": [
    "algos = [LogisticRegression(),KNeighborsRegressor(), DecisionTreeRegressor(), RandomForestRegressor(),GaussianNB()]\n",
    "names = ['Logistic Regression','k-Nearest Neighbors','Decision Trees','Random Forest Regressor','Naive Bayes']\n",
    "f1_score_list = []"
   ]
  },
  {
   "cell_type": "code",
   "execution_count": 24,
   "metadata": {},
   "outputs": [],
   "source": [
    "for name in algos:\n",
    "    model = name\n",
    "    model.fit(X_train,y_train)\n",
    "    y_pred = model.predict(X_test)\n",
    "    MSE= metrics.mean_squared_error(y_test,y_pred)\n",
    "    rmse = np.sqrt(MSE)\n",
    "    f1_score_list.append(rmse)"
   ]
  },
  {
   "cell_type": "code",
   "execution_count": 25,
   "metadata": {},
   "outputs": [],
   "source": [
    "evaluation = pd.DataFrame({'Model': names,\n",
    "                           'RMSE': f1_score_list})"
   ]
  },
  {
   "cell_type": "code",
   "execution_count": 26,
   "metadata": {},
   "outputs": [
    {
     "data": {
      "text/html": [
       "<div>\n",
       "<style scoped>\n",
       "    .dataframe tbody tr th:only-of-type {\n",
       "        vertical-align: middle;\n",
       "    }\n",
       "\n",
       "    .dataframe tbody tr th {\n",
       "        vertical-align: top;\n",
       "    }\n",
       "\n",
       "    .dataframe thead th {\n",
       "        text-align: right;\n",
       "    }\n",
       "</style>\n",
       "<table border=\"1\" class=\"dataframe\">\n",
       "  <thead>\n",
       "    <tr style=\"text-align: right;\">\n",
       "      <th></th>\n",
       "      <th>Model</th>\n",
       "      <th>RMSE</th>\n",
       "    </tr>\n",
       "  </thead>\n",
       "  <tbody>\n",
       "    <tr>\n",
       "      <th>0</th>\n",
       "      <td>Logistic Regression</td>\n",
       "      <td>0.567000</td>\n",
       "    </tr>\n",
       "    <tr>\n",
       "      <th>1</th>\n",
       "      <td>k-Nearest Neighbors</td>\n",
       "      <td>0.510797</td>\n",
       "    </tr>\n",
       "    <tr>\n",
       "      <th>2</th>\n",
       "      <td>Decision Trees</td>\n",
       "      <td>0.639903</td>\n",
       "    </tr>\n",
       "    <tr>\n",
       "      <th>3</th>\n",
       "      <td>Random Forest Regressor</td>\n",
       "      <td>0.515977</td>\n",
       "    </tr>\n",
       "    <tr>\n",
       "      <th>4</th>\n",
       "      <td>Naive Bayes</td>\n",
       "      <td>0.567000</td>\n",
       "    </tr>\n",
       "  </tbody>\n",
       "</table>\n",
       "</div>"
      ],
      "text/plain": [
       "                     Model      RMSE\n",
       "0      Logistic Regression  0.567000\n",
       "1      k-Nearest Neighbors  0.510797\n",
       "2           Decision Trees  0.639903\n",
       "3  Random Forest Regressor  0.515977\n",
       "4              Naive Bayes  0.567000"
      ]
     },
     "execution_count": 26,
     "metadata": {},
     "output_type": "execute_result"
    }
   ],
   "source": [
    "evaluation"
   ]
  },
  {
   "cell_type": "code",
   "execution_count": 38,
   "metadata": {},
   "outputs": [],
   "source": [
    "model1 = GaussianNB()\n",
    "model1.fit(X_train, y_train)\n",
    "\n",
    "pred_train = model1.predict(X_train) \n",
    "pred_test = model1.predict(X_test)"
   ]
  },
  {
   "cell_type": "code",
   "execution_count": 39,
   "metadata": {},
   "outputs": [
    {
     "name": "stdout",
     "output_type": "stream",
     "text": [
      "Train f1_score: -41.887019230769226\n"
     ]
    }
   ],
   "source": [
    "import math\n",
    "# Evaluating Train Data\n",
    "train_f1_score = 100 * metrics.r2_score(y_train, pred_train)\n",
    "print(f'Train f1_score: {train_f1_score}')"
   ]
  },
  {
   "cell_type": "code",
   "execution_count": 40,
   "metadata": {},
   "outputs": [
    {
     "name": "stdout",
     "output_type": "stream",
     "text": [
      "Test f1_score: -47.381546134663346\n",
      "Test MSE : 0.32148900169204736\n",
      "Test RMSE : 0.5670000014921053\n"
     ]
    }
   ],
   "source": [
    "# Evaluating Test Data\n",
    "test_f1_score = 100 * metrics.r2_score(y_test, pred_test)\n",
    "print(f'Test f1_score: {test_f1_score}')\n",
    "\n",
    "test_mse = metrics.mean_squared_error(y_test, pred_test)\n",
    "print(f'Test MSE : {test_mse}')\n",
    "\n",
    "test_RMSE = math.sqrt(metrics.mean_squared_error(y_test, pred_test))\n",
    "print(f'Test RMSE : {test_RMSE}')"
   ]
  },
  {
   "cell_type": "code",
   "execution_count": 41,
   "metadata": {},
   "outputs": [
    {
     "data": {
      "image/png": "[encoded data removed]",
      "text/plain": [
       "<Figure size 1152x648 with 1 Axes>"
      ]
     },
     "metadata": {
      "needs_background": "light"
     },
     "output_type": "display_data"
    }
   ],
   "source": [
    "# Visualization for Actual and Predicted Sales in testing Data\n",
    "test = pd.DataFrame(\n",
    "    {'Predicted death':pred_test, 'Actual death':y_test}\n",
    ")\n",
    "\n",
    "fig= plt.figure(\n",
    "    figsize=(16, 9)\n",
    ")\n",
    "\n",
    "test = test.reset_index()\n",
    "test = test.drop(\n",
    "    ['index'],axis=1\n",
    ")\n",
    "\n",
    "plt.plot(test[:50])\n",
    "plt.legend(['Actual Sales','Predicted Sales'])\n",
    "plt.title('Actual & Predicted Sales')\n",
    "plt.show()"
   ]
  }
 ],
 "metadata": {
  "kernelspec": {
   "display_name": "Python 3",
   "language": "python",
   "name": "python3"
  },
  "language_info": {
   "codemirror_mode": {
    "name": "ipython",
    "version": 3
   },
   "file_extension": ".py",
   "mimetype": "text/x-python",
   "name": "python",
   "nbconvert_exporter": "python",
   "pygments_lexer": "ipython3",
   "version": "3.8.5"
  }
 },
 "nbformat": 4,
 "nbformat_minor": 4
}
